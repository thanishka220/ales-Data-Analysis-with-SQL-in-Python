{
  "nbformat": 4,
  "nbformat_minor": 0,
  "metadata": {
    "colab": {
      "provenance": [],
      "authorship_tag": "ABX9TyNgz8VxKaIH/ZVmhYY3nZge",
      "include_colab_link": true
    },
    "kernelspec": {
      "name": "python3",
      "display_name": "Python 3"
    },
    "language_info": {
      "name": "python"
    }
  },
  "cells": [
    {
      "cell_type": "markdown",
      "metadata": {
        "id": "view-in-github",
        "colab_type": "text"
      },
      "source": [
        "<a href=\"https://colab.research.google.com/github/thanishka220/ales-Data-Analysis-with-SQL-in-Python/blob/main/sales_sql_analysis.ipynb\" target=\"_parent\"><img src=\"https://colab.research.google.com/assets/colab-badge.svg\" alt=\"Open In Colab\"/></a>"
      ]
    },
    {
      "cell_type": "code",
      "execution_count": 1,
      "metadata": {
        "colab": {
          "base_uri": "https://localhost:8080/"
        },
        "id": "W7ZxIylEA7Y4",
        "outputId": "9a978901-dd84-4520-ff93-ee10bbb74b28"
      },
      "outputs": [
        {
          "output_type": "stream",
          "name": "stdout",
          "text": [
            "Requirement already satisfied: pandas in /usr/local/lib/python3.11/dist-packages (2.2.2)\n",
            "Requirement already satisfied: matplotlib in /usr/local/lib/python3.11/dist-packages (3.10.0)\n",
            "Requirement already satisfied: numpy>=1.23.2 in /usr/local/lib/python3.11/dist-packages (from pandas) (2.0.2)\n",
            "Requirement already satisfied: python-dateutil>=2.8.2 in /usr/local/lib/python3.11/dist-packages (from pandas) (2.9.0.post0)\n",
            "Requirement already satisfied: pytz>=2020.1 in /usr/local/lib/python3.11/dist-packages (from pandas) (2025.2)\n",
            "Requirement already satisfied: tzdata>=2022.7 in /usr/local/lib/python3.11/dist-packages (from pandas) (2025.2)\n",
            "Requirement already satisfied: contourpy>=1.0.1 in /usr/local/lib/python3.11/dist-packages (from matplotlib) (1.3.3)\n",
            "Requirement already satisfied: cycler>=0.10 in /usr/local/lib/python3.11/dist-packages (from matplotlib) (0.12.1)\n",
            "Requirement already satisfied: fonttools>=4.22.0 in /usr/local/lib/python3.11/dist-packages (from matplotlib) (4.59.0)\n",
            "Requirement already satisfied: kiwisolver>=1.3.1 in /usr/local/lib/python3.11/dist-packages (from matplotlib) (1.4.9)\n",
            "Requirement already satisfied: packaging>=20.0 in /usr/local/lib/python3.11/dist-packages (from matplotlib) (25.0)\n",
            "Requirement already satisfied: pillow>=8 in /usr/local/lib/python3.11/dist-packages (from matplotlib) (11.3.0)\n",
            "Requirement already satisfied: pyparsing>=2.3.1 in /usr/local/lib/python3.11/dist-packages (from matplotlib) (3.2.3)\n",
            "Requirement already satisfied: six>=1.5 in /usr/local/lib/python3.11/dist-packages (from python-dateutil>=2.8.2->pandas) (1.17.0)\n"
          ]
        }
      ],
      "source": [
        "\n",
        "!pip install pandas matplotlib\n"
      ]
    },
    {
      "cell_type": "code",
      "source": [
        "import sqlite3\n",
        "import pandas as pd\n",
        "import matplotlib.pyplot as plt\n",
        "import os"
      ],
      "metadata": {
        "id": "CdN-J28lBPi3"
      },
      "execution_count": 2,
      "outputs": []
    },
    {
      "cell_type": "code",
      "source": [
        "DB_PATH = \"sales_data.db\"\n",
        "\n",
        "def create_sample_db():\n",
        "    if os.path.exists(DB_PATH):\n",
        "        os.remove(DB_PATH)\n",
        "        print(f\"Removed existing {DB_PATH} to create a fresh sample database.\")\n",
        "\n",
        "    conn = sqlite3.connect(DB_PATH)\n",
        "    cur = conn.cursor()\n",
        "\n",
        "    cur.execute(\"\"\"\n",
        "        CREATE TABLE sales (\n",
        "            id INTEGER PRIMARY KEY AUTOINCREMENT,\n",
        "            product TEXT NOT NULL,\n",
        "            quantity INTEGER NOT NULL,\n",
        "            price REAL NOT NULL,\n",
        "            sale_date TEXT\n",
        "        );\n",
        "    \"\"\")\n",
        "\n",
        "    sample_data = [\n",
        "        (\"Widget A\", 10, 9.99, \"2025-08-01\"),\n",
        "        (\"Widget B\", 5, 19.99, \"2025-08-02\"),\n",
        "        (\"Gadget C\", 7, 14.50, \"2025-08-03\"),\n",
        "        (\"Widget A\", 3, 9.99, \"2025-08-04\"),\n",
        "        (\"Gadget C\", 2, 14.50, \"2025-08-05\"),\n",
        "        (\"Widget B\", 8, 19.99, \"2025-08-06\"),\n",
        "        (\"Accessory D\", 20, 4.75, \"2025-08-07\"),\n",
        "    ]\n",
        "\n",
        "    cur.executemany(\n",
        "        \"INSERT INTO sales (product, quantity, price, sale_date) VALUES (?, ?, ?, ?)\",\n",
        "        sample_data\n",
        "    )\n",
        "    conn.commit()\n",
        "    conn.close()\n",
        "    print(f\"Created {DB_PATH} with {len(sample_data)} sample rows.\")\n",
        "\n",
        "create_sample_db()"
      ],
      "metadata": {
        "colab": {
          "base_uri": "https://localhost:8080/"
        },
        "id": "7oURvD0RBF1Q",
        "outputId": "ca836818-6301-4d2a-9617-179523ab1026"
      },
      "execution_count": 3,
      "outputs": [
        {
          "output_type": "stream",
          "name": "stdout",
          "text": [
            "Created sales_data.db with 7 sample rows.\n"
          ]
        }
      ]
    },
    {
      "cell_type": "code",
      "source": [
        "conn = sqlite3.connect(DB_PATH)\n",
        "\n",
        "query = \"\"\"\n",
        "SELECT product, SUM(quantity) AS total_qty, SUM(quantity * price) AS revenue\n",
        "FROM sales\n",
        "GROUP BY product\n",
        "ORDER BY revenue DESC;\n",
        "\"\"\"\n",
        "df = pd.read_sql_query(query, conn)\n",
        "\n",
        "query_totals = \"\"\"\n",
        "SELECT SUM(quantity) AS total_qty, SUM(quantity * price) AS total_revenue\n",
        "FROM sales;\n",
        "\"\"\"\n",
        "totals_df = pd.read_sql_query(query_totals, conn)\n",
        "\n",
        "conn.close()\n"
      ],
      "metadata": {
        "id": "d-JX1sBWBsyl"
      },
      "execution_count": 4,
      "outputs": []
    },
    {
      "cell_type": "code",
      "source": [
        "print(\"\\n--- Sales by Product ---\")\n",
        "print(df)\n",
        "\n",
        "print(\"\\n--- Overall Totals ---\")\n",
        "print(totals_df)"
      ],
      "metadata": {
        "colab": {
          "base_uri": "https://localhost:8080/"
        },
        "id": "z8ZsFOEzByge",
        "outputId": "31eecf4f-a54f-47e7-ddcd-80affbac9fe5"
      },
      "execution_count": 5,
      "outputs": [
        {
          "output_type": "stream",
          "name": "stdout",
          "text": [
            "\n",
            "--- Sales by Product ---\n",
            "       product  total_qty  revenue\n",
            "0     Widget B         13   259.87\n",
            "1     Gadget C          9   130.50\n",
            "2     Widget A         13   129.87\n",
            "3  Accessory D         20    95.00\n",
            "\n",
            "--- Overall Totals ---\n",
            "   total_qty  total_revenue\n",
            "0         55         615.24\n"
          ]
        }
      ]
    },
    {
      "cell_type": "code",
      "source": [
        "plt.figure(figsize=(6,4))\n",
        "plt.bar(df[\"product\"], df[\"revenue\"], color=\"skyblue\")\n",
        "plt.xlabel(\"Product\")\n",
        "plt.ylabel(\"Revenue\")\n",
        "plt.title(\"Revenue by Product\")\n",
        "plt.xticks(rotation=45)\n",
        "plt.tight_layout()\n",
        "plt.show()\n"
      ],
      "metadata": {
        "colab": {
          "base_uri": "https://localhost:8080/",
          "height": 407
        },
        "id": "jHCA9jDdB34d",
        "outputId": "32a653af-cf84-4d0c-9344-205234cdcf5f"
      },
      "execution_count": 6,
      "outputs": [
        {
          "output_type": "display_data",
          "data": {
            "text/plain": [
              "<Figure size 600x400 with 1 Axes>"
            ],
            "image/png": "[encoded data removed]"
          },
          "metadata": {}
        }
      ]
    }
  ]
}